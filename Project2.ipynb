{
  "nbformat": 4,
  "nbformat_minor": 0,
  "metadata": {
    "colab": {
      "provenance": [],
      "include_colab_link": true
    },
    "kernelspec": {
      "name": "python3",
      "display_name": "Python 3"
    },
    "language_info": {
      "name": "python"
    }
  },
  "cells": [
    {
      "cell_type": "markdown",
      "metadata": {
        "id": "view-in-github",
        "colab_type": "text"
      },
      "source": [
        "<a href=\"https://colab.research.google.com/github/Khushi0212/Prediciting-outcomes-of-polices-cases/blob/main/Project2.ipynb\" target=\"_parent\"><img src=\"https://colab.research.google.com/assets/colab-badge.svg\" alt=\"Open In Colab\"/></a>"
      ]
    },
    {
      "cell_type": "markdown",
      "source": [
        "AUTHORS: Khushi Sharma, David Saavedra, Alejandro Ramirez"
      ],
      "metadata": {
        "id": "88Zk42FBLAea"
      }
    },
    {
      "cell_type": "markdown",
      "source": [
        "#INTRODUCTION"
      ],
      "metadata": {
        "id": "S9ikzJ9-NThu"
      }
    },
    {
      "cell_type": "markdown",
      "source": [
        "In this project the dataset talks about the crime incidents of Cincinnati. Incidents are the records, of reported crimes, collected by an agency for management. Incidents are typically housed in a Records Management System (RMS) that stores agency-wide data about law enforcement operations.\n",
        "The main goal of this machine learning algorithm is to find out if we can predict the outcome of all the case."
      ],
      "metadata": {
        "id": "Hi-VoUTLNkWd"
      }
    },
    {
      "cell_type": "code",
      "source": [
        "import numpy as np\n",
        "import pandas as pd\n",
        "\n",
        "from sklearn.preprocessing import StandardScaler, PolynomialFeatures\n",
        "from sklearn.model_selection import cross_val_score, cross_val_predict\n",
        "from sklearn.model_selection import train_test_split, learning_curve\n",
        "from sklearn.neighbors import KNeighborsClassifier\n",
        "from sklearn.linear_model import LogisticRegression\n",
        "from sklearn.compose import ColumnTransformer\n",
        "from sklearn.metrics import confusion_matrix\n",
        "from sklearn.model_selection import cross_val_predict\n",
        "from sklearn.model_selection import cross_val_score, GridSearchCV\n",
        "from sklearn.feature_selection import VarianceThreshold\n",
        "from sklearn.feature_selection import mutual_info_classif, SelectKBest\n",
        "from sklearn.feature_selection import SequentialFeatureSelector\n",
        "\n",
        "import matplotlib.pyplot as plt\n",
        "import seaborn as sns"
      ],
      "metadata": {
        "id": "-Xa6wizKLNEW"
      },
      "execution_count": null,
      "outputs": []
    },
    {
      "cell_type": "markdown",
      "source": [
        "# INITAL DATA EXPLORATION"
      ],
      "metadata": {
        "id": "uoYl4cTxNrEI"
      }
    },
    {
      "cell_type": "markdown",
      "source": [
        "The following data was downloaded on 5/9/22 from\n",
        "\n",
        "https://data.cincinnati-oh.gov/safety/PDI-Police-Data-Initiative-Crime-Incidents/k59e-2pvf"
      ],
      "metadata": {
        "id": "gJgrsU9mBPQy"
      }
    },
    {
      "cell_type": "code",
      "source": [
        "input_file = \"https://raw.githubusercontent.com/DavidESaavedra/dataScience/main/PDI__Police_Data_Initiative__Crime_Incidents.csv\"\n",
        "df = pd.read_csv(input_file)"
      ],
      "metadata": {
        "id": "qkztED6eMMNV",
        "colab": {
          "base_uri": "https://localhost:8080/"
        },
        "outputId": "251353b5-8b3a-4227-abe7-2befc2f9a840"
      },
      "execution_count": null,
      "outputs": [
        {
          "output_type": "stream",
          "name": "stderr",
          "text": [
            "/usr/local/lib/python3.7/dist-packages/IPython/core/interactiveshell.py:2882: DtypeWarning: Columns (8,21,34) have mixed types.Specify dtype option on import or set low_memory=False.\n",
            "  exec(code_obj, self.user_global_ns, self.user_ns)\n"
          ]
        }
      ]
    },
    {
      "cell_type": "markdown",
      "source": [
        "What does a typical data entry look like?"
      ],
      "metadata": {
        "id": "RLheIhGCPmlq"
      }
    },
    {
      "cell_type": "code",
      "source": [
        "df.head()"
      ],
      "metadata": {
        "colab": {
          "base_uri": "https://localhost:8080/",
          "height": 491
        },
        "id": "2_qUav7FNJSN",
        "outputId": "9a545b4a-de21-4490-bd63-b262e04848a9"
      },
      "execution_count": null,
      "outputs": [
        {
          "output_type": "execute_result",
          "data": {
            "text/plain": [
              "                             INSTANCEID INCIDENT_NO           DATE_REPORTED  \\\n",
              "0  D5FFCE5D-2393-4683-90E7-33BCDC284583   229010800  05/07/2022 06:21:04 PM   \n",
              "1  164CFAA6-E580-419F-BE01-E4FCA6130607   229010816  05/07/2022 06:03:00 PM   \n",
              "2  707DAD69-A4FD-4E31-8A64-CEDEE0F8CBF1   229010805  05/07/2022 05:08:43 PM   \n",
              "3  95F8F27D-A8E1-418C-8E71-2F6F410832C0   229010810  05/07/2022 05:08:00 PM   \n",
              "4  A68CB864-F891-4F6A-982E-8447A8487C11   229010804  05/07/2022 04:48:10 PM   \n",
              "\n",
              "                DATE_FROM                 DATE_TO  \\\n",
              "0  05/07/2022 12:30:00 PM  05/07/2022 12:35:00 PM   \n",
              "1  05/07/2022 05:30:00 PM  05/07/2022 06:00:00 PM   \n",
              "2  05/07/2022 02:00:00 PM  05/07/2022 02:30:00 PM   \n",
              "3  05/07/2022 05:00:00 PM  05/07/2022 05:07:00 PM   \n",
              "4  05/07/2022 03:00:00 PM  05/07/2022 03:35:00 PM   \n",
              "\n",
              "                           CLSD    UCR DST BEAT              OFFENSE  ...  \\\n",
              "0                           NaN  802.0   4    3  AGGRAVATED MENACING  ...   \n",
              "1  F--CLEARED BY ARREST - ADULT  600.0   4    4                THEFT  ...   \n",
              "2  F--CLEARED BY ARREST - ADULT  802.0   3    2  AGGRAVATED MENACING  ...   \n",
              "3                           NaN  810.0   2    1              ASSAULT  ...   \n",
              "4      I--INVESTIGATION PENDING  600.0   3    3                THEFT  ...   \n",
              "\n",
              "  SUSPECT_RACE     SUSPECT_ETHNICITY SUSPECT_GENDER TOTALNUMBERVICTIMS  \\\n",
              "0        BLACK  NOT OF HISPANIC ORIG           MALE                1.0   \n",
              "1          NaN                   NaN            NaN                1.0   \n",
              "2          NaN                   NaN            NaN                1.0   \n",
              "3        BLACK  NOT OF HISPANIC ORIG           MALE                1.0   \n",
              "4        BLACK  NOT OF HISPANIC ORIG           MALE                1.0   \n",
              "\n",
              "  TOTALSUSPECTS     UCR_GROUP    ZIP COMMUNITY_COUNCIL_NEIGHBORHOOD  \\\n",
              "0           1.0  PART 2 MINOR  45229                       AVONDALE   \n",
              "1           NaN         THEFT  45229                  PADDOCK HILLS   \n",
              "2           NaN  PART 2 MINOR  45205                WEST PRICE HILL   \n",
              "3           1.0  PART 2 MINOR  45206              EAST WALNUT HILLS   \n",
              "4           2.0         THEFT  45211                       WESTWOOD   \n",
              "\n",
              "                 SNA_NEIGHBORHOOD Unnamed: 40  \n",
              "0                        AVONDALE         NaN  \n",
              "1  NORTH AVONDALE - PADDOCK HILLS         NaN  \n",
              "2                 WEST PRICE HILL         NaN  \n",
              "3               EAST WALNUT HILLS         NaN  \n",
              "4                        WESTWOOD         NaN  \n",
              "\n",
              "[5 rows x 41 columns]"
            ],
            "text/html": [
              "\n",
              "  <div id=\"df-ab52a256-dec4-453c-a69a-c85f4de9c174\">\n",
              "    <div class=\"colab-df-container\">\n",
              "      <div>\n",
              "<style scoped>\n",
              "    .dataframe tbody tr th:only-of-type {\n",
              "        vertical-align: middle;\n",
              "    }\n",
              "\n",
              "    .dataframe tbody tr th {\n",
              "        vertical-align: top;\n",
              "    }\n",
              "\n",
              "    .dataframe thead th {\n",
              "        text-align: right;\n",
              "    }\n",
              "</style>\n",
              "<table border=\"1\" class=\"dataframe\">\n",
              "  <thead>\n",
              "    <tr style=\"text-align: right;\">\n",
              "      <th></th>\n",
              "      <th>INSTANCEID</th>\n",
              "      <th>INCIDENT_NO</th>\n",
              "      <th>DATE_REPORTED</th>\n",
              "      <th>DATE_FROM</th>\n",
              "      <th>DATE_TO</th>\n",
              "      <th>CLSD</th>\n",
              "      <th>UCR</th>\n",
              "      <th>DST</th>\n",
              "      <th>BEAT</th>\n",
              "      <th>OFFENSE</th>\n",
              "      <th>...</th>\n",
              "      <th>SUSPECT_RACE</th>\n",
              "      <th>SUSPECT_ETHNICITY</th>\n",
              "      <th>SUSPECT_GENDER</th>\n",
              "      <th>TOTALNUMBERVICTIMS</th>\n",
              "      <th>TOTALSUSPECTS</th>\n",
              "      <th>UCR_GROUP</th>\n",
              "      <th>ZIP</th>\n",
              "      <th>COMMUNITY_COUNCIL_NEIGHBORHOOD</th>\n",
              "      <th>SNA_NEIGHBORHOOD</th>\n",
              "      <th>Unnamed: 40</th>\n",
              "    </tr>\n",
              "  </thead>\n",
              "  <tbody>\n",
              "    <tr>\n",
              "      <th>0</th>\n",
              "      <td>D5FFCE5D-2393-4683-90E7-33BCDC284583</td>\n",
              "      <td>229010800</td>\n",
              "      <td>05/07/2022 06:21:04 PM</td>\n",
              "      <td>05/07/2022 12:30:00 PM</td>\n",
              "      <td>05/07/2022 12:35:00 PM</td>\n",
              "      <td>NaN</td>\n",
              "      <td>802.0</td>\n",
              "      <td>4</td>\n",
              "      <td>3</td>\n",
              "      <td>AGGRAVATED MENACING</td>\n",
              "      <td>...</td>\n",
              "      <td>BLACK</td>\n",
              "      <td>NOT OF HISPANIC ORIG</td>\n",
              "      <td>MALE</td>\n",
              "      <td>1.0</td>\n",
              "      <td>1.0</td>\n",
              "      <td>PART 2 MINOR</td>\n",
              "      <td>45229</td>\n",
              "      <td>AVONDALE</td>\n",
              "      <td>AVONDALE</td>\n",
              "      <td>NaN</td>\n",
              "    </tr>\n",
              "    <tr>\n",
              "      <th>1</th>\n",
              "      <td>164CFAA6-E580-419F-BE01-E4FCA6130607</td>\n",
              "      <td>229010816</td>\n",
              "      <td>05/07/2022 06:03:00 PM</td>\n",
              "      <td>05/07/2022 05:30:00 PM</td>\n",
              "      <td>05/07/2022 06:00:00 PM</td>\n",
              "      <td>F--CLEARED BY ARREST - ADULT</td>\n",
              "      <td>600.0</td>\n",
              "      <td>4</td>\n",
              "      <td>4</td>\n",
              "      <td>THEFT</td>\n",
              "      <td>...</td>\n",
              "      <td>NaN</td>\n",
              "      <td>NaN</td>\n",
              "      <td>NaN</td>\n",
              "      <td>1.0</td>\n",
              "      <td>NaN</td>\n",
              "      <td>THEFT</td>\n",
              "      <td>45229</td>\n",
              "      <td>PADDOCK HILLS</td>\n",
              "      <td>NORTH AVONDALE - PADDOCK HILLS</td>\n",
              "      <td>NaN</td>\n",
              "    </tr>\n",
              "    <tr>\n",
              "      <th>2</th>\n",
              "      <td>707DAD69-A4FD-4E31-8A64-CEDEE0F8CBF1</td>\n",
              "      <td>229010805</td>\n",
              "      <td>05/07/2022 05:08:43 PM</td>\n",
              "      <td>05/07/2022 02:00:00 PM</td>\n",
              "      <td>05/07/2022 02:30:00 PM</td>\n",
              "      <td>F--CLEARED BY ARREST - ADULT</td>\n",
              "      <td>802.0</td>\n",
              "      <td>3</td>\n",
              "      <td>2</td>\n",
              "      <td>AGGRAVATED MENACING</td>\n",
              "      <td>...</td>\n",
              "      <td>NaN</td>\n",
              "      <td>NaN</td>\n",
              "      <td>NaN</td>\n",
              "      <td>1.0</td>\n",
              "      <td>NaN</td>\n",
              "      <td>PART 2 MINOR</td>\n",
              "      <td>45205</td>\n",
              "      <td>WEST PRICE HILL</td>\n",
              "      <td>WEST PRICE HILL</td>\n",
              "      <td>NaN</td>\n",
              "    </tr>\n",
              "    <tr>\n",
              "      <th>3</th>\n",
              "      <td>95F8F27D-A8E1-418C-8E71-2F6F410832C0</td>\n",
              "      <td>229010810</td>\n",
              "      <td>05/07/2022 05:08:00 PM</td>\n",
              "      <td>05/07/2022 05:00:00 PM</td>\n",
              "      <td>05/07/2022 05:07:00 PM</td>\n",
              "      <td>NaN</td>\n",
              "      <td>810.0</td>\n",
              "      <td>2</td>\n",
              "      <td>1</td>\n",
              "      <td>ASSAULT</td>\n",
              "      <td>...</td>\n",
              "      <td>BLACK</td>\n",
              "      <td>NOT OF HISPANIC ORIG</td>\n",
              "      <td>MALE</td>\n",
              "      <td>1.0</td>\n",
              "      <td>1.0</td>\n",
              "      <td>PART 2 MINOR</td>\n",
              "      <td>45206</td>\n",
              "      <td>EAST WALNUT HILLS</td>\n",
              "      <td>EAST WALNUT HILLS</td>\n",
              "      <td>NaN</td>\n",
              "    </tr>\n",
              "    <tr>\n",
              "      <th>4</th>\n",
              "      <td>A68CB864-F891-4F6A-982E-8447A8487C11</td>\n",
              "      <td>229010804</td>\n",
              "      <td>05/07/2022 04:48:10 PM</td>\n",
              "      <td>05/07/2022 03:00:00 PM</td>\n",
              "      <td>05/07/2022 03:35:00 PM</td>\n",
              "      <td>I--INVESTIGATION PENDING</td>\n",
              "      <td>600.0</td>\n",
              "      <td>3</td>\n",
              "      <td>3</td>\n",
              "      <td>THEFT</td>\n",
              "      <td>...</td>\n",
              "      <td>BLACK</td>\n",
              "      <td>NOT OF HISPANIC ORIG</td>\n",
              "      <td>MALE</td>\n",
              "      <td>1.0</td>\n",
              "      <td>2.0</td>\n",
              "      <td>THEFT</td>\n",
              "      <td>45211</td>\n",
              "      <td>WESTWOOD</td>\n",
              "      <td>WESTWOOD</td>\n",
              "      <td>NaN</td>\n",
              "    </tr>\n",
              "  </tbody>\n",
              "</table>\n",
              "<p>5 rows × 41 columns</p>\n",
              "</div>\n",
              "      <button class=\"colab-df-convert\" onclick=\"convertToInteractive('df-ab52a256-dec4-453c-a69a-c85f4de9c174')\"\n",
              "              title=\"Convert this dataframe to an interactive table.\"\n",
              "              style=\"display:none;\">\n",
              "        \n",
              "  <svg xmlns=\"http://www.w3.org/2000/svg\" height=\"24px\"viewBox=\"0 0 24 24\"\n",
              "       width=\"24px\">\n",
              "    <path d=\"M0 0h24v24H0V0z\" fill=\"none\"/>\n",
              "    <path d=\"M18.56 5.44l.94 2.06.94-2.06 2.06-.94-2.06-.94-.94-2.06-.94 2.06-2.06.94zm-11 1L8.5 8.5l.94-2.06 2.06-.94-2.06-.94L8.5 2.5l-.94 2.06-2.06.94zm10 10l.94 2.06.94-2.06 2.06-.94-2.06-.94-.94-2.06-.94 2.06-2.06.94z\"/><path d=\"M17.41 7.96l-1.37-1.37c-.4-.4-.92-.59-1.43-.59-.52 0-1.04.2-1.43.59L10.3 9.45l-7.72 7.72c-.78.78-.78 2.05 0 2.83L4 21.41c.39.39.9.59 1.41.59.51 0 1.02-.2 1.41-.59l7.78-7.78 2.81-2.81c.8-.78.8-2.07 0-2.86zM5.41 20L4 18.59l7.72-7.72 1.47 1.35L5.41 20z\"/>\n",
              "  </svg>\n",
              "      </button>\n",
              "      \n",
              "  <style>\n",
              "    .colab-df-container {\n",
              "      display:flex;\n",
              "      flex-wrap:wrap;\n",
              "      gap: 12px;\n",
              "    }\n",
              "\n",
              "    .colab-df-convert {\n",
              "      background-color: #E8F0FE;\n",
              "      border: none;\n",
              "      border-radius: 50%;\n",
              "      cursor: pointer;\n",
              "      display: none;\n",
              "      fill: #1967D2;\n",
              "      height: 32px;\n",
              "      padding: 0 0 0 0;\n",
              "      width: 32px;\n",
              "    }\n",
              "\n",
              "    .colab-df-convert:hover {\n",
              "      background-color: #E2EBFA;\n",
              "      box-shadow: 0px 1px 2px rgba(60, 64, 67, 0.3), 0px 1px 3px 1px rgba(60, 64, 67, 0.15);\n",
              "      fill: #174EA6;\n",
              "    }\n",
              "\n",
              "    [theme=dark] .colab-df-convert {\n",
              "      background-color: #3B4455;\n",
              "      fill: #D2E3FC;\n",
              "    }\n",
              "\n",
              "    [theme=dark] .colab-df-convert:hover {\n",
              "      background-color: #434B5C;\n",
              "      box-shadow: 0px 1px 3px 1px rgba(0, 0, 0, 0.15);\n",
              "      filter: drop-shadow(0px 1px 2px rgba(0, 0, 0, 0.3));\n",
              "      fill: #FFFFFF;\n",
              "    }\n",
              "  </style>\n",
              "\n",
              "      <script>\n",
              "        const buttonEl =\n",
              "          document.querySelector('#df-ab52a256-dec4-453c-a69a-c85f4de9c174 button.colab-df-convert');\n",
              "        buttonEl.style.display =\n",
              "          google.colab.kernel.accessAllowed ? 'block' : 'none';\n",
              "\n",
              "        async function convertToInteractive(key) {\n",
              "          const element = document.querySelector('#df-ab52a256-dec4-453c-a69a-c85f4de9c174');\n",
              "          const dataTable =\n",
              "            await google.colab.kernel.invokeFunction('convertToInteractive',\n",
              "                                                     [key], {});\n",
              "          if (!dataTable) return;\n",
              "\n",
              "          const docLinkHtml = 'Like what you see? Visit the ' +\n",
              "            '<a target=\"_blank\" href=https://colab.research.google.com/notebooks/data_table.ipynb>data table notebook</a>'\n",
              "            + ' to learn more about interactive tables.';\n",
              "          element.innerHTML = '';\n",
              "          dataTable['output_type'] = 'display_data';\n",
              "          await google.colab.output.renderOutput(dataTable, element);\n",
              "          const docLink = document.createElement('div');\n",
              "          docLink.innerHTML = docLinkHtml;\n",
              "          element.appendChild(docLink);\n",
              "        }\n",
              "      </script>\n",
              "    </div>\n",
              "  </div>\n",
              "  "
            ]
          },
          "metadata": {},
          "execution_count": 3
        }
      ]
    },
    {
      "cell_type": "markdown",
      "source": [
        "A typical entry starts with information such as 'intanceid' which is followed by the incident no. and the date it was reported on and the kind of offence the crimial is aressted along with some other information on the location on the crime and a breif discription of the criminal which includes the sex, race, ethnicity etc, of the following criminal."
      ],
      "metadata": {
        "id": "smrsTPAaPqj-"
      }
    },
    {
      "cell_type": "markdown",
      "source": [
        "How many row/columns are there in the dataset?\n",
        "\n",
        "What types of columns are there in the dataset?"
      ],
      "metadata": {
        "id": "MqeSL1ZBQtmb"
      }
    },
    {
      "cell_type": "code",
      "source": [
        "df.info()"
      ],
      "metadata": {
        "colab": {
          "base_uri": "https://localhost:8080/"
        },
        "id": "gkpwhsgXNb6v",
        "outputId": "2a129816-c392-47b6-c90e-8c84a7979fd5"
      },
      "execution_count": null,
      "outputs": [
        {
          "output_type": "stream",
          "name": "stdout",
          "text": [
            "<class 'pandas.core.frame.DataFrame'>\n",
            "RangeIndex: 54998 entries, 0 to 54997\n",
            "Data columns (total 41 columns):\n",
            " #   Column                          Non-Null Count  Dtype  \n",
            "---  ------                          --------------  -----  \n",
            " 0   INSTANCEID                      54998 non-null  object \n",
            " 1   INCIDENT_NO                     54998 non-null  object \n",
            " 2   DATE_REPORTED                   54934 non-null  object \n",
            " 3   DATE_FROM                       54998 non-null  object \n",
            " 4   DATE_TO                         54952 non-null  object \n",
            " 5   CLSD                            54632 non-null  object \n",
            " 6   UCR                             54961 non-null  float64\n",
            " 7   DST                             54998 non-null  object \n",
            " 8   BEAT                            54942 non-null  object \n",
            " 9   OFFENSE                         54964 non-null  object \n",
            " 10  LOCATION                        54998 non-null  object \n",
            " 11  THEFT_CODE                      17971 non-null  object \n",
            " 12  FLOOR                           4059 non-null   object \n",
            " 13  SIDE                            3933 non-null   object \n",
            " 14  OPENING                         2763 non-null   object \n",
            " 15  HATE_BIAS                       54983 non-null  object \n",
            " 16  DAYOFWEEK                       53319 non-null  object \n",
            " 17  RPT_AREA                        54550 non-null  object \n",
            " 18  CPD_NEIGHBORHOOD                54533 non-null  object \n",
            " 19  WEAPONS                         54994 non-null  object \n",
            " 20  DATE_OF_CLEARANCE               51852 non-null  object \n",
            " 21  HOUR_FROM                       54990 non-null  object \n",
            " 22  HOUR_TO                         54956 non-null  float64\n",
            " 23  ADDRESS_X                       54411 non-null  object \n",
            " 24  LONGITUDE_X                     48333 non-null  object \n",
            " 25  LATITUDE_X                      48333 non-null  float64\n",
            " 26  VICTIM_AGE                      54998 non-null  object \n",
            " 27  VICTIM_RACE                     47604 non-null  object \n",
            " 28  VICTIM_ETHNICITY                47604 non-null  object \n",
            " 29  VICTIM_GENDER                   47604 non-null  object \n",
            " 30  SUSPECT_AGE                     54998 non-null  object \n",
            " 31  SUSPECT_RACE                    30073 non-null  object \n",
            " 32  SUSPECT_ETHNICITY               30069 non-null  object \n",
            " 33  SUSPECT_GENDER                  30069 non-null  object \n",
            " 34  TOTALNUMBERVICTIMS              54895 non-null  object \n",
            " 35  TOTALSUSPECTS                   30075 non-null  float64\n",
            " 36  UCR_GROUP                       54948 non-null  object \n",
            " 37  ZIP                             54996 non-null  object \n",
            " 38  COMMUNITY_COUNCIL_NEIGHBORHOOD  48740 non-null  object \n",
            " 39  SNA_NEIGHBORHOOD                48742 non-null  object \n",
            " 40  Unnamed: 40                     13 non-null     object \n",
            "dtypes: float64(4), object(37)\n",
            "memory usage: 17.2+ MB\n"
          ]
        }
      ]
    },
    {
      "cell_type": "markdown",
      "source": [
        "There are about 1000 rows/entries and 40 coulumns. Of those 40 columns 4 are float type, 4 are int type and 32 are object type."
      ],
      "metadata": {
        "id": "kbAdImUmOI6o"
      }
    },
    {
      "cell_type": "code",
      "source": [
        "df.describe()"
      ],
      "metadata": {
        "colab": {
          "base_uri": "https://localhost:8080/",
          "height": 300
        },
        "id": "FXrptKQ8Nzpw",
        "outputId": "ae1ae65f-46b5-455e-c2de-884279d2353b"
      },
      "execution_count": null,
      "outputs": [
        {
          "output_type": "execute_result",
          "data": {
            "text/plain": [
              "                UCR       HOUR_TO    LATITUDE_X  TOTALSUSPECTS\n",
              "count  54961.000000  54956.000000  48333.000000   30075.000000\n",
              "mean     867.333637    912.069201     39.107065       1.531771\n",
              "std      491.497898    799.495518      2.027759       1.036419\n",
              "min        0.000000      0.000000    -84.588618       1.000000\n",
              "25%      600.000000    140.000000     39.117137       1.000000\n",
              "50%      600.000000    812.500000     39.136005       1.000000\n",
              "75%      862.000000   1644.000000     39.155724       2.000000\n",
              "max     2761.000000   2359.000000     39.293537      17.000000"
            ],
            "text/html": [
              "\n",
              "  <div id=\"df-43211a7d-1a75-45ee-9262-1bdd61dfd7d2\">\n",
              "    <div class=\"colab-df-container\">\n",
              "      <div>\n",
              "<style scoped>\n",
              "    .dataframe tbody tr th:only-of-type {\n",
              "        vertical-align: middle;\n",
              "    }\n",
              "\n",
              "    .dataframe tbody tr th {\n",
              "        vertical-align: top;\n",
              "    }\n",
              "\n",
              "    .dataframe thead th {\n",
              "        text-align: right;\n",
              "    }\n",
              "</style>\n",
              "<table border=\"1\" class=\"dataframe\">\n",
              "  <thead>\n",
              "    <tr style=\"text-align: right;\">\n",
              "      <th></th>\n",
              "      <th>UCR</th>\n",
              "      <th>HOUR_TO</th>\n",
              "      <th>LATITUDE_X</th>\n",
              "      <th>TOTALSUSPECTS</th>\n",
              "    </tr>\n",
              "  </thead>\n",
              "  <tbody>\n",
              "    <tr>\n",
              "      <th>count</th>\n",
              "      <td>54961.000000</td>\n",
              "      <td>54956.000000</td>\n",
              "      <td>48333.000000</td>\n",
              "      <td>30075.000000</td>\n",
              "    </tr>\n",
              "    <tr>\n",
              "      <th>mean</th>\n",
              "      <td>867.333637</td>\n",
              "      <td>912.069201</td>\n",
              "      <td>39.107065</td>\n",
              "      <td>1.531771</td>\n",
              "    </tr>\n",
              "    <tr>\n",
              "      <th>std</th>\n",
              "      <td>491.497898</td>\n",
              "      <td>799.495518</td>\n",
              "      <td>2.027759</td>\n",
              "      <td>1.036419</td>\n",
              "    </tr>\n",
              "    <tr>\n",
              "      <th>min</th>\n",
              "      <td>0.000000</td>\n",
              "      <td>0.000000</td>\n",
              "      <td>-84.588618</td>\n",
              "      <td>1.000000</td>\n",
              "    </tr>\n",
              "    <tr>\n",
              "      <th>25%</th>\n",
              "      <td>600.000000</td>\n",
              "      <td>140.000000</td>\n",
              "      <td>39.117137</td>\n",
              "      <td>1.000000</td>\n",
              "    </tr>\n",
              "    <tr>\n",
              "      <th>50%</th>\n",
              "      <td>600.000000</td>\n",
              "      <td>812.500000</td>\n",
              "      <td>39.136005</td>\n",
              "      <td>1.000000</td>\n",
              "    </tr>\n",
              "    <tr>\n",
              "      <th>75%</th>\n",
              "      <td>862.000000</td>\n",
              "      <td>1644.000000</td>\n",
              "      <td>39.155724</td>\n",
              "      <td>2.000000</td>\n",
              "    </tr>\n",
              "    <tr>\n",
              "      <th>max</th>\n",
              "      <td>2761.000000</td>\n",
              "      <td>2359.000000</td>\n",
              "      <td>39.293537</td>\n",
              "      <td>17.000000</td>\n",
              "    </tr>\n",
              "  </tbody>\n",
              "</table>\n",
              "</div>\n",
              "      <button class=\"colab-df-convert\" onclick=\"convertToInteractive('df-43211a7d-1a75-45ee-9262-1bdd61dfd7d2')\"\n",
              "              title=\"Convert this dataframe to an interactive table.\"\n",
              "              style=\"display:none;\">\n",
              "        \n",
              "  <svg xmlns=\"http://www.w3.org/2000/svg\" height=\"24px\"viewBox=\"0 0 24 24\"\n",
              "       width=\"24px\">\n",
              "    <path d=\"M0 0h24v24H0V0z\" fill=\"none\"/>\n",
              "    <path d=\"M18.56 5.44l.94 2.06.94-2.06 2.06-.94-2.06-.94-.94-2.06-.94 2.06-2.06.94zm-11 1L8.5 8.5l.94-2.06 2.06-.94-2.06-.94L8.5 2.5l-.94 2.06-2.06.94zm10 10l.94 2.06.94-2.06 2.06-.94-2.06-.94-.94-2.06-.94 2.06-2.06.94z\"/><path d=\"M17.41 7.96l-1.37-1.37c-.4-.4-.92-.59-1.43-.59-.52 0-1.04.2-1.43.59L10.3 9.45l-7.72 7.72c-.78.78-.78 2.05 0 2.83L4 21.41c.39.39.9.59 1.41.59.51 0 1.02-.2 1.41-.59l7.78-7.78 2.81-2.81c.8-.78.8-2.07 0-2.86zM5.41 20L4 18.59l7.72-7.72 1.47 1.35L5.41 20z\"/>\n",
              "  </svg>\n",
              "      </button>\n",
              "      \n",
              "  <style>\n",
              "    .colab-df-container {\n",
              "      display:flex;\n",
              "      flex-wrap:wrap;\n",
              "      gap: 12px;\n",
              "    }\n",
              "\n",
              "    .colab-df-convert {\n",
              "      background-color: #E8F0FE;\n",
              "      border: none;\n",
              "      border-radius: 50%;\n",
              "      cursor: pointer;\n",
              "      display: none;\n",
              "      fill: #1967D2;\n",
              "      height: 32px;\n",
              "      padding: 0 0 0 0;\n",
              "      width: 32px;\n",
              "    }\n",
              "\n",
              "    .colab-df-convert:hover {\n",
              "      background-color: #E2EBFA;\n",
              "      box-shadow: 0px 1px 2px rgba(60, 64, 67, 0.3), 0px 1px 3px 1px rgba(60, 64, 67, 0.15);\n",
              "      fill: #174EA6;\n",
              "    }\n",
              "\n",
              "    [theme=dark] .colab-df-convert {\n",
              "      background-color: #3B4455;\n",
              "      fill: #D2E3FC;\n",
              "    }\n",
              "\n",
              "    [theme=dark] .colab-df-convert:hover {\n",
              "      background-color: #434B5C;\n",
              "      box-shadow: 0px 1px 3px 1px rgba(0, 0, 0, 0.15);\n",
              "      filter: drop-shadow(0px 1px 2px rgba(0, 0, 0, 0.3));\n",
              "      fill: #FFFFFF;\n",
              "    }\n",
              "  </style>\n",
              "\n",
              "      <script>\n",
              "        const buttonEl =\n",
              "          document.querySelector('#df-43211a7d-1a75-45ee-9262-1bdd61dfd7d2 button.colab-df-convert');\n",
              "        buttonEl.style.display =\n",
              "          google.colab.kernel.accessAllowed ? 'block' : 'none';\n",
              "\n",
              "        async function convertToInteractive(key) {\n",
              "          const element = document.querySelector('#df-43211a7d-1a75-45ee-9262-1bdd61dfd7d2');\n",
              "          const dataTable =\n",
              "            await google.colab.kernel.invokeFunction('convertToInteractive',\n",
              "                                                     [key], {});\n",
              "          if (!dataTable) return;\n",
              "\n",
              "          const docLinkHtml = 'Like what you see? Visit the ' +\n",
              "            '<a target=\"_blank\" href=https://colab.research.google.com/notebooks/data_table.ipynb>data table notebook</a>'\n",
              "            + ' to learn more about interactive tables.';\n",
              "          element.innerHTML = '';\n",
              "          dataTable['output_type'] = 'display_data';\n",
              "          await google.colab.output.renderOutput(dataTable, element);\n",
              "          const docLink = document.createElement('div');\n",
              "          docLink.innerHTML = docLinkHtml;\n",
              "          element.appendChild(docLink);\n",
              "        }\n",
              "      </script>\n",
              "    </div>\n",
              "  </div>\n",
              "  "
            ]
          },
          "metadata": {},
          "execution_count": 5
        }
      ]
    },
    {
      "cell_type": "markdown",
      "source": [
        "#DATA PREPROCESSING\n"
      ],
      "metadata": {
        "id": "XOX6X07PhaJA"
      }
    },
    {
      "cell_type": "markdown",
      "source": [
        "Let's take a look at the different kinds of crimes in the record."
      ],
      "metadata": {
        "id": "XEttE2PufQUd"
      }
    },
    {
      "cell_type": "code",
      "source": [
        "df['OFFENSE'].value_counts()[:10]"
      ],
      "metadata": {
        "id": "UTxnNwhtpuL5",
        "outputId": "fcb89a90-107e-4ab1-f001-851de89faa93",
        "colab": {
          "base_uri": "https://localhost:8080/"
        }
      },
      "execution_count": null,
      "outputs": [
        {
          "output_type": "execute_result",
          "data": {
            "text/plain": [
              "THEFT                            17958\n",
              "CRIMINAL DAMAGING/ENDANGERING     8458\n",
              "ASSAULT                           5766\n",
              "DOMESTIC VIOLENCE                 3369\n",
              "FELONIOUS ASSAULT                 2602\n",
              "BURGLARY                          2123\n",
              "AGGRAVATED MENACING               2109\n",
              "BREAKING AND ENTERING             1688\n",
              "AGGRAVATED ROBBERY                1528\n",
              "MENACING                          1159\n",
              "Name: OFFENSE, dtype: int64"
            ]
          },
          "metadata": {},
          "execution_count": 6
        }
      ]
    },
    {
      "cell_type": "markdown",
      "source": [
        "Investigating the new column that was created named Unnamed: 40"
      ],
      "metadata": {
        "id": "y75Fjfv2RCpV"
      }
    },
    {
      "cell_type": "code",
      "source": [
        "df['Unnamed: 40'].isna().sum() / df.shape[0]"
      ],
      "metadata": {
        "colab": {
          "base_uri": "https://localhost:8080/"
        },
        "id": "xcIpRM3i1155",
        "outputId": "7cb61423-2f01-4714-d334-34f9f66894f6"
      },
      "execution_count": null,
      "outputs": [
        {
          "output_type": "execute_result",
          "data": {
            "text/plain": [
              "0.9997636277682825"
            ]
          },
          "metadata": {},
          "execution_count": 7
        }
      ]
    },
    {
      "cell_type": "markdown",
      "source": [
        "It appears a column was formatted incorrectly, it should be safe to drop any rows which contain values and then drop the entire column. Removing the incorrectly formatted rows also allows us to change the TOTALNUMBERVICTIMS column into floats."
      ],
      "metadata": {
        "id": "WRtfg10C1pqj"
      }
    },
    {
      "cell_type": "code",
      "source": [
        "df = df[df['Unnamed: 40'].isna()]\n",
        "df.drop(columns=['Unnamed: 40'], inplace=True)\n",
        "df['TOTALNUMBERVICTIMS'] = df['TOTALNUMBERVICTIMS'].astype(float)"
      ],
      "metadata": {
        "id": "TkA1ptaY1dNq",
        "colab": {
          "base_uri": "https://localhost:8080/"
        },
        "outputId": "45e506b5-3631-4871-94d1-baf1b3bf3ba9"
      },
      "execution_count": null,
      "outputs": [
        {
          "output_type": "stream",
          "name": "stderr",
          "text": [
            "/usr/local/lib/python3.7/dist-packages/pandas/core/frame.py:4913: SettingWithCopyWarning: \n",
            "A value is trying to be set on a copy of a slice from a DataFrame\n",
            "\n",
            "See the caveats in the documentation: https://pandas.pydata.org/pandas-docs/stable/user_guide/indexing.html#returning-a-view-versus-a-copy\n",
            "  errors=errors,\n",
            "/usr/local/lib/python3.7/dist-packages/ipykernel_launcher.py:3: SettingWithCopyWarning: \n",
            "A value is trying to be set on a copy of a slice from a DataFrame.\n",
            "Try using .loc[row_indexer,col_indexer] = value instead\n",
            "\n",
            "See the caveats in the documentation: https://pandas.pydata.org/pandas-docs/stable/user_guide/indexing.html#returning-a-view-versus-a-copy\n",
            "  This is separate from the ipykernel package so we can avoid doing imports until\n"
          ]
        }
      ]
    },
    {
      "cell_type": "markdown",
      "source": [
        "Investigating the DST column"
      ],
      "metadata": {
        "id": "IqusAHPJReRd"
      }
    },
    {
      "cell_type": "code",
      "source": [
        "df['DST'].value_counts(normalize=True)"
      ],
      "metadata": {
        "colab": {
          "base_uri": "https://localhost:8080/"
        },
        "id": "XQcK7AJr230m",
        "outputId": "1b8568c6-e3b8-412b-f1b7-b6dcce74b75a"
      },
      "execution_count": null,
      "outputs": [
        {
          "output_type": "execute_result",
          "data": {
            "text/plain": [
              "3                   0.324234\n",
              "4                   0.230608\n",
              "5                   0.183996\n",
              "2                   0.121633\n",
              "1                   0.098227\n",
              "CENTRAL BUSINESS    0.040902\n",
              "OTHER               0.000400\n",
              "Name: DST, dtype: float64"
            ]
          },
          "metadata": {},
          "execution_count": 9
        }
      ]
    },
    {
      "cell_type": "markdown",
      "source": [
        "All districts except central business are displayed as a number. Doing a bit of research tells us that the city of cincinatti has 6 districts, meaning we can assign central business as district 6 and drop where the district is 'OTHER' as well as turn all the columns into floats."
      ],
      "metadata": {
        "id": "iuHeLWA826RB"
      }
    },
    {
      "cell_type": "code",
      "source": [
        "mask = (df['DST'] == 'CENTRAL BUSINESS')\n",
        "df.loc[mask, 'DST'] = 6\n",
        "df = df[df['DST'] != 'OTHER']\n",
        "df.loc['DST'] = df['DST'].astype(float)"
      ],
      "metadata": {
        "id": "02z5S3P4278H"
      },
      "execution_count": null,
      "outputs": []
    },
    {
      "cell_type": "markdown",
      "source": [
        "Some columns provide general information about a crimes location which as individual values probably would't provide too much information. Instead of using those columns we create new columns which contains whether or not this information was provided."
      ],
      "metadata": {
        "id": "T5TFaRbq3bN4"
      }
    },
    {
      "cell_type": "code",
      "source": [
        "df['OPENING_USED_KNOWN'] = (~(df['OPENING'].isna())).astype(float)\n",
        "df['SIDE_USED_KNOWN'] = (~(df['SIDE'].isna())).astype(float)"
      ],
      "metadata": {
        "id": "lJWgt-Cw3dWy"
      },
      "execution_count": null,
      "outputs": []
    },
    {
      "cell_type": "markdown",
      "source": [
        "These column were difficult to deal with or these columns did not provide much information on individual cases.\n",
        "\n",
        "Example: date of clearance is only known after closed outcome is known"
      ],
      "metadata": {
        "id": "rcegJFHcR7XQ"
      }
    },
    {
      "cell_type": "code",
      "source": [
        "df.drop(columns=['INSTANCEID', \"DATE_REPORTED\", \"DATE_FROM\", \"DATE_TO\", \"CPD_NEIGHBORHOOD\", \"COMMUNITY_COUNCIL_NEIGHBORHOOD\", \"SNA_NEIGHBORHOOD\", \"DATE_OF_CLEARANCE\", 'INCIDENT_NO', 'BEAT', 'FLOOR', 'SIDE', 'OPENING', 'RPT_AREA', 'ADDRESS_X', 'LONGITUDE_X', 'LATITUDE_X', 'ZIP'], inplace=True)"
      ],
      "metadata": {
        "id": "eymPk7VzdbqZ"
      },
      "execution_count": null,
      "outputs": []
    },
    {
      "cell_type": "code",
      "source": [
        "df.info()"
      ],
      "metadata": {
        "id": "lIOqviVFM4k7",
        "colab": {
          "base_uri": "https://localhost:8080/"
        },
        "outputId": "411212a5-7ab2-4da6-a7d9-1d63a6086f8e"
      },
      "execution_count": null,
      "outputs": [
        {
          "output_type": "stream",
          "name": "stdout",
          "text": [
            "<class 'pandas.core.frame.DataFrame'>\n",
            "Index: 54964 entries, 0 to DST\n",
            "Data columns (total 24 columns):\n",
            " #   Column              Non-Null Count  Dtype  \n",
            "---  ------              --------------  -----  \n",
            " 0   CLSD                54597 non-null  object \n",
            " 1   UCR                 54926 non-null  float64\n",
            " 2   DST                 54963 non-null  object \n",
            " 3   OFFENSE             54929 non-null  object \n",
            " 4   LOCATION            54963 non-null  object \n",
            " 5   THEFT_CODE          17947 non-null  object \n",
            " 6   HATE_BIAS           54961 non-null  object \n",
            " 7   DAYOFWEEK           53286 non-null  object \n",
            " 8   WEAPONS             54959 non-null  object \n",
            " 9   HOUR_FROM           54963 non-null  object \n",
            " 10  HOUR_TO             54921 non-null  float64\n",
            " 11  VICTIM_AGE          54963 non-null  object \n",
            " 12  VICTIM_RACE         47571 non-null  object \n",
            " 13  VICTIM_ETHNICITY    47571 non-null  object \n",
            " 14  VICTIM_GENDER       47571 non-null  object \n",
            " 15  SUSPECT_AGE         54963 non-null  object \n",
            " 16  SUSPECT_RACE        30050 non-null  object \n",
            " 17  SUSPECT_ETHNICITY   30050 non-null  object \n",
            " 18  SUSPECT_GENDER      30050 non-null  object \n",
            " 19  TOTALNUMBERVICTIMS  54864 non-null  float64\n",
            " 20  TOTALSUSPECTS       30052 non-null  float64\n",
            " 21  UCR_GROUP           54917 non-null  object \n",
            " 22  OPENING_USED_KNOWN  54964 non-null  float64\n",
            " 23  SIDE_USED_KNOWN     54964 non-null  float64\n",
            "dtypes: float64(6), object(18)\n",
            "memory usage: 10.5+ MB\n"
          ]
        }
      ]
    },
    {
      "cell_type": "markdown",
      "source": [
        "In the following dataset the column 'HOUR FROM' is appeared as a object type but it should have been a flot type,so it has been fixed below in the following way."
      ],
      "metadata": {
        "id": "RjPfDvx17j1i"
      }
    },
    {
      "cell_type": "code",
      "source": [
        "df['HOUR_FROM'] = df['HOUR_FROM'].astype(float)"
      ],
      "metadata": {
        "id": "qKp2h0H-8ELo"
      },
      "execution_count": null,
      "outputs": []
    },
    {
      "cell_type": "markdown",
      "source": [
        "The following part represents the following ways in which the case must have been closed."
      ],
      "metadata": {
        "id": "kEH2dYaEgafd"
      }
    },
    {
      "cell_type": "code",
      "source": [
        "df['CLSD'].value_counts()"
      ],
      "metadata": {
        "colab": {
          "base_uri": "https://localhost:8080/"
        },
        "id": "mLNjQ4BoN-sJ",
        "outputId": "ff42507a-0339-4256-e2b5-d35c9a467261"
      },
      "execution_count": null,
      "outputs": [
        {
          "output_type": "execute_result",
          "data": {
            "text/plain": [
              "Z--EARLY CLOSED                    16235\n",
              "J--CLOSED                          13566\n",
              "F--CLEARED BY ARREST - ADULT       11310\n",
              "H--WARRANT ISSUED                   4425\n",
              "D--VICTIM REFUSED TO COOPERATE      3075\n",
              "I--INVESTIGATION PENDING            2778\n",
              "K--UNFOUNDED                        1724\n",
              "G--CLEARED BY ARREST - JUVENILE     1159\n",
              "B--PROSECUTION DECLINED              223\n",
              "A--DEATH OF OFFENDER                  64\n",
              "E--JUVENILE/NO CUSTODY                36\n",
              "U--UNKNOWN                             2\n",
              "Name: CLSD, dtype: int64"
            ]
          },
          "metadata": {},
          "execution_count": 15
        }
      ]
    },
    {
      "cell_type": "markdown",
      "source": [
        "#Preparing Data for machine learning\n"
      ],
      "metadata": {
        "id": "DbT9zD1diB0P"
      }
    },
    {
      "cell_type": "markdown",
      "source": [
        "Remove clsd outcomes wich account for less than 1 percent"
      ],
      "metadata": {
        "id": "f2j2dwpE3vfQ"
      }
    },
    {
      "cell_type": "code",
      "source": [
        "treshold = .01\n",
        "df = df[df['CLSD'].isin(df['CLSD'].value_counts().index[(~(df['CLSD'].value_counts(normalize=True) < treshold))])]"
      ],
      "metadata": {
        "id": "LCK2ovsq3t53"
      },
      "execution_count": null,
      "outputs": []
    },
    {
      "cell_type": "code",
      "source": [
        "df['CLSD'].value_counts(normalize=True).plot.barh()\n",
        "plt.title(\"CLSD that contain atleast 1 percent of total values\")\n",
        "plt.ylabel(\"CLSD\");"
      ],
      "metadata": {
        "colab": {
          "base_uri": "https://localhost:8080/",
          "height": 281
        },
        "id": "F73Y7cXO-74a",
        "outputId": "bbce834c-ac65-4a2f-f3b5-9c26c0702890"
      },
      "execution_count": null,
      "outputs": [
        {
          "output_type": "display_data",
          "data": {
            "text/plain": [
              "<Figure size 432x288 with 1 Axes>"
            ],
            "image/png": "[encoded data removed]"
          },
          "metadata": {
            "needs_background": "light"
          }
        }
      ]
    },
    {
      "cell_type": "markdown",
      "source": [
        "The about plot represents the cases that contain atleast 1% of the total value."
      ],
      "metadata": {
        "id": "ogG6iGGagsqu"
      }
    },
    {
      "cell_type": "code",
      "source": [
        "# ordinal encoding\n",
        "ordinal_map = { 'Z--EARLY CLOSED': 0,\n",
        "'J--CLOSED': 1,\n",
        "'F--CLEARED BY ARREST - ADULT': 2,\n",
        "'H--WARRANT ISSUED': 3,\n",
        "'D--VICTIM REFUSED TO COOPERATE': 4,\n",
        "'I--INVESTIGATION PENDING': 5,\n",
        "'K--UNFOUNDED': 6,\n",
        "'G--CLEARED BY ARREST - JUVENILE': 7,\n",
        "'B--PROSECUTION DECLINED': 8,\n",
        "'A--DEATH OF OFFENDER': 9,\n",
        "'E--JUVENILE/NO CUSTODY': 10,\n",
        "'U--UNKNOWN': 11, }\n",
        "\n",
        "df[\"CLSD\"] = df['CLSD'].map(ordinal_map)"
      ],
      "metadata": {
        "id": "d8VRBrs0eHBS"
      },
      "execution_count": null,
      "outputs": []
    },
    {
      "cell_type": "code",
      "source": [
        "df['CLSD'].value_counts()"
      ],
      "metadata": {
        "colab": {
          "base_uri": "https://localhost:8080/"
        },
        "id": "kYty54BN-mEU",
        "outputId": "5c83a415-5f77-4676-bf6e-b135237c6422"
      },
      "execution_count": null,
      "outputs": [
        {
          "output_type": "execute_result",
          "data": {
            "text/plain": [
              "0    16235\n",
              "1    13566\n",
              "2    11310\n",
              "3     4425\n",
              "4     3075\n",
              "5     2778\n",
              "6     1724\n",
              "7     1159\n",
              "Name: CLSD, dtype: int64"
            ]
          },
          "metadata": {},
          "execution_count": 19
        }
      ]
    },
    {
      "cell_type": "markdown",
      "source": [
        "Created and encoding variables so we can run KNN and split or test and training data."
      ],
      "metadata": {
        "id": "TsZNeuQ2SshF"
      }
    },
    {
      "cell_type": "code",
      "source": [
        "df2 = pd.get_dummies(df, drop_first=True)\n",
        "target = 'CLSD'\n",
        "predictors =  df2.columns[df2.columns != target]\n",
        "X = df2[predictors].values\n",
        "y = df2[target].values\n",
        "predictors =  df2.columns[df2.columns != target]\n",
        "X_train, X_test, y_train, y_test = train_test_split(X, y, test_size=0.30, random_state=0)"
      ],
      "metadata": {
        "id": "tkmBoyvRT6c9"
      },
      "execution_count": null,
      "outputs": []
    },
    {
      "cell_type": "markdown",
      "source": [
        "Infinite and nan values can cause issues with running KNN, we first look for fractions in the columns that would give us issues"
      ],
      "metadata": {
        "id": "ofmr12cOTWcc"
      }
    },
    {
      "cell_type": "code",
      "source": [
        "(~np.isfinite(df2[df2[predictors].columns[((~(np.isfinite(X_train))).sum(axis=0)).astype(bool)]])).sum() / df2.shape[0]"
      ],
      "metadata": {
        "colab": {
          "base_uri": "https://localhost:8080/"
        },
        "id": "Ai1gqjh6InNr",
        "outputId": "affa6708-9e4c-4b7c-8815-52ce9f69c547"
      },
      "execution_count": null,
      "outputs": [
        {
          "output_type": "execute_result",
          "data": {
            "text/plain": [
              "UCR                   0.000663\n",
              "HOUR_TO               0.000774\n",
              "TOTALNUMBERVICTIMS    0.001732\n",
              "TOTALSUSPECTS         0.455852\n",
              "dtype: float64"
            ]
          },
          "metadata": {},
          "execution_count": 21
        }
      ]
    },
    {
      "cell_type": "markdown",
      "source": [
        "About half of all rows under the TOTALSUSPECTS column have non finite values\n",
        "\n",
        "\n",
        "For convenience, we should be able to drop all columns where there are low non finite values and then try dealing with the TOTALSUSPECTS column"
      ],
      "metadata": {
        "id": "moUGros5IoXu"
      }
    },
    {
      "cell_type": "code",
      "source": [
        "df2 = df2[((np.isfinite(df['UCR'])) & (np.isfinite(df['HOUR_TO'])) & (np.isfinite(df['TOTALNUMBERVICTIMS'])))]"
      ],
      "metadata": {
        "id": "KNd3tSlHIq2p"
      },
      "execution_count": null,
      "outputs": []
    },
    {
      "cell_type": "markdown",
      "source": [
        "Impute the nan values with the mode"
      ],
      "metadata": {
        "id": "U8S4e2z4KAb0"
      }
    },
    {
      "cell_type": "code",
      "source": [
        "df2['TOTALSUSPECTS'].fillna(df['TOTALSUSPECTS'].mode().values[0]);"
      ],
      "metadata": {
        "id": "w5sHhNfrJrH1"
      },
      "execution_count": null,
      "outputs": []
    },
    {
      "cell_type": "markdown",
      "source": [
        "Their are still many nan values in the data that we decided to drop them"
      ],
      "metadata": {
        "id": "2oOt11QtU2ou"
      }
    },
    {
      "cell_type": "code",
      "source": [
        "df2.dropna(inplace=True)"
      ],
      "metadata": {
        "id": "SIEKwlDfI_My"
      },
      "execution_count": null,
      "outputs": []
    },
    {
      "cell_type": "markdown",
      "source": [
        "Now we can define our final testing and training data"
      ],
      "metadata": {
        "id": "W4jY7rhTxHdT"
      }
    },
    {
      "cell_type": "code",
      "source": [
        "X = df2[predictors].values\n",
        "y = df2[target].values\n",
        "X_train, X_test, y_train, y_test = train_test_split(X, y, test_size=0.30, random_state=0)"
      ],
      "metadata": {
        "id": "jj_B4xXjSY9w"
      },
      "execution_count": null,
      "outputs": []
    },
    {
      "cell_type": "markdown",
      "source": [
        "# Computing Baseline accuracy"
      ],
      "metadata": {
        "id": "s8mXHxd8akHQ"
      }
    },
    {
      "cell_type": "markdown",
      "source": [
        "The baseline accuracy in a classification problem tells us the accuracy we could achieve if we simply guessed the majority class."
      ],
      "metadata": {
        "id": "nrNPm14Nh4h7"
      }
    },
    {
      "cell_type": "code",
      "source": [
        "vals, counts = np.unique(y_train, return_counts=True)\n",
        "target_mode = vals[counts.argmax()]\n",
        "print('Most common target value: {}'.format(target_mode))"
      ],
      "metadata": {
        "colab": {
          "base_uri": "https://localhost:8080/"
        },
        "id": "sy6hMa6OVNR9",
        "outputId": "50e55a61-efe3-48a9-c7b4-39e22a4a09e1"
      },
      "execution_count": null,
      "outputs": [
        {
          "output_type": "stream",
          "name": "stdout",
          "text": [
            "Most common target value: 1\n"
          ]
        }
      ]
    },
    {
      "cell_type": "code",
      "source": [
        "print('Baseline accuracy: {}'.format((y_train == target_mode).mean().round(3)))"
      ],
      "metadata": {
        "colab": {
          "base_uri": "https://localhost:8080/"
        },
        "id": "VcyajRYxVNT4",
        "outputId": "55f24146-b620-449c-e446-efbf637fd86a"
      },
      "execution_count": null,
      "outputs": [
        {
          "output_type": "stream",
          "name": "stdout",
          "text": [
            "Baseline accuracy: 0.272\n"
          ]
        }
      ]
    },
    {
      "cell_type": "markdown",
      "source": [
        "Looking at the 10 best predictor variables"
      ],
      "metadata": {
        "id": "NAhksBdd8dI1"
      }
    },
    {
      "cell_type": "code",
      "source": [
        "selector = SelectKBest(mutual_info_classif)\n",
        "selector.fit(X_train, y_train);"
      ],
      "metadata": {
        "id": "SkLzccEmQNGh"
      },
      "execution_count": null,
      "outputs": []
    },
    {
      "cell_type": "code",
      "source": [
        "pd.Series(selector.scores_, index=predictors).sort_values()[-10:].plot.barh()\n",
        "plt.title(\"The top ten predictor variables from select k best by selector's scores\");"
      ],
      "metadata": {
        "colab": {
          "base_uri": "https://localhost:8080/",
          "height": 281
        },
        "id": "0vLz7otMRiMJ",
        "outputId": "df5ad945-3909-4191-b7ca-f365cc5dd288"
      },
      "execution_count": null,
      "outputs": [
        {
          "output_type": "display_data",
          "data": {
            "text/plain": [
              "<Figure size 432x288 with 1 Axes>"
            ],
            "image/png": "[encoded data removed]"
          },
          "metadata": {
            "needs_background": "light"
          }
        }
      ]
    },
    {
      "cell_type": "markdown",
      "source": [
        "We can start off by looking at KNN with 3 neighbours to and use it as another baseline"
      ],
      "metadata": {
        "id": "sfjiQC803edM"
      }
    },
    {
      "cell_type": "code",
      "source": [
        "clf = KNeighborsClassifier(n_neighbors=3)\n",
        "print(f'Cross-validation accuracy: {cross_val_score(clf, X_train, y_train, cv=5).mean().round(3)}')"
      ],
      "metadata": {
        "id": "MSWkrL2Pa3Yj",
        "colab": {
          "base_uri": "https://localhost:8080/"
        },
        "outputId": "8a4fc78a-707c-49fc-80c4-c57aa8482a9d"
      },
      "execution_count": null,
      "outputs": [
        {
          "output_type": "stream",
          "name": "stdout",
          "text": [
            "Cross-validation accuracy: 0.425\n"
          ]
        }
      ]
    },
    {
      "cell_type": "markdown",
      "source": [
        "#Forward Feature Selection"
      ],
      "metadata": {
        "id": "b6TrwA54SHNo"
      }
    },
    {
      "cell_type": "markdown",
      "source": [
        "Forward feature selection with 15 features"
      ],
      "metadata": {
        "id": "O3cAyoJu82fX"
      }
    },
    {
      "cell_type": "code",
      "source": [
        "# use a smaller subset of data to avoid forward selection and grid search taking so long\n",
        "df3 = df2.sample(5000, random_state=42)\n",
        "X3 = df3[predictors].values\n",
        "y3 = df3[target].values"
      ],
      "metadata": {
        "id": "EBS0pqwM-RiB"
      },
      "execution_count": null,
      "outputs": []
    },
    {
      "cell_type": "code",
      "source": [
        "selector = SequentialFeatureSelector(KNeighborsClassifier(), n_features_to_select=15, cv=5)\n",
        "selector.fit(X3, y3)\n",
        "feature_mask = selector.get_support()"
      ],
      "metadata": {
        "id": "OCls_mqo8z5v"
      },
      "execution_count": null,
      "outputs": []
    },
    {
      "cell_type": "markdown",
      "source": [
        "Using the features we got with forward feature selection we can improve scores by doing a grid search to find the best parameters to use with our KNN algorithm."
      ],
      "metadata": {
        "id": "v6Z1QaTE9kRa"
      }
    },
    {
      "cell_type": "code",
      "source": [
        "# getting data for feature selected\n",
        "X_selected = df2[predictors[feature_mask]]\n",
        "X_train, X_test, y_train, y_test = train_test_split(X_selected, y, test_size=0.30, random_state=0)"
      ],
      "metadata": {
        "id": "akenM_o8TW_A"
      },
      "execution_count": null,
      "outputs": []
    },
    {
      "cell_type": "code",
      "source": [
        "grid = [{'n_neighbors': range(3,16,2),'weights': ['uniform', 'distance'],'p': [1,2]}]\n",
        "knn_cv = GridSearchCV(KNeighborsClassifier(), grid, cv=10)\n",
        "knn_cv.fit(X_train, y_train)"
      ],
      "metadata": {
        "id": "1wgdmTPmB_n6",
        "colab": {
          "base_uri": "https://localhost:8080/"
        },
        "outputId": "2b848bad-0ba2-4835-b48a-6df4b8007359"
      },
      "execution_count": null,
      "outputs": [
        {
          "output_type": "execute_result",
          "data": {
            "text/plain": [
              "GridSearchCV(cv=10, estimator=KNeighborsClassifier(),\n",
              "             param_grid=[{'n_neighbors': range(3, 16, 2), 'p': [1, 2],\n",
              "                          'weights': ['uniform', 'distance']}])"
            ]
          },
          "metadata": {},
          "execution_count": 34
        }
      ]
    },
    {
      "cell_type": "code",
      "source": [
        "print(knn_cv.best_params_)\n",
        "print('best CV accuracy: {:.3f}'.format(knn_cv.best_score_))"
      ],
      "metadata": {
        "id": "fAcHT-HsTXCA",
        "colab": {
          "base_uri": "https://localhost:8080/"
        },
        "outputId": "47df3133-d611-4585-d899-59ce51b41d3f"
      },
      "execution_count": null,
      "outputs": [
        {
          "output_type": "stream",
          "name": "stdout",
          "text": [
            "{'n_neighbors': 15, 'p': 2, 'weights': 'distance'}\n",
            "best CV accuracy: 0.468\n"
          ]
        }
      ]
    },
    {
      "cell_type": "markdown",
      "source": [
        "Our accuracy increased from KNN 3 baseline"
      ],
      "metadata": {
        "id": "HZ1bPC4yWUaG"
      }
    },
    {
      "cell_type": "markdown",
      "source": [
        "#Making prediction and assessing the model"
      ],
      "metadata": {
        "id": "sCg-M8ZhiYxD"
      }
    },
    {
      "cell_type": "code",
      "source": [
        "def plot_learning_curve(clf, X_train, y_train):\n",
        "    # generate the data; average the values\n",
        "    train_sizes, train_scores, test_scores = \\\n",
        "    learning_curve(clf, X_train, y_train, cv=5, scoring='accuracy')\n",
        "    train_scores_mean = np.mean(train_scores, axis=1)\n",
        "    test_scores_mean = np.mean(test_scores, axis=1)\n",
        "\n",
        "    # plot the learning curve\n",
        "    plt.plot(train_sizes, train_scores_mean, label='train')\n",
        "    plt.plot(train_sizes, test_scores_mean, label='test')\n",
        "    plt.xlabel('Training Set Size')\n",
        "    plt.ylabel('Accuracy')\n",
        "    plt.title('Learning curve, optimized KNN')\n",
        "    plt.legend();"
      ],
      "metadata": {
        "id": "j1k8Nx6JW5cs"
      },
      "execution_count": null,
      "outputs": []
    },
    {
      "cell_type": "code",
      "source": [
        "plot_learning_curve(knn_cv.best_estimator_, X_train, y_train)"
      ],
      "metadata": {
        "id": "TFVQoHGpW5fN",
        "colab": {
          "base_uri": "https://localhost:8080/",
          "height": 295
        },
        "outputId": "91b0f0da-dac2-455c-d188-e36f7487c0f9"
      },
      "execution_count": null,
      "outputs": [
        {
          "output_type": "display_data",
          "data": {
            "text/plain": [
              "<Figure size 432x288 with 1 Axes>"
            ],
            "image/png": "[encoded data removed]"
          },
          "metadata": {
            "needs_background": "light"
          }
        }
      ]
    },
    {
      "cell_type": "markdown",
      "source": [
        "#Test Acuuracy\n"
      ],
      "metadata": {
        "id": "VWmZtOXGisA0"
      }
    },
    {
      "cell_type": "code",
      "source": [
        "clf = knn_cv.best_estimator_\n",
        "y_pred = clf.predict(X_test)\n",
        "acc = (y_pred == y_test).mean()\n",
        "print('accuracy: ', acc)"
      ],
      "metadata": {
        "id": "ZIiXuZx_MGRg",
        "colab": {
          "base_uri": "https://localhost:8080/"
        },
        "outputId": "048927a9-5e68-4863-dbe2-feef205bd8ec"
      },
      "execution_count": null,
      "outputs": [
        {
          "output_type": "stream",
          "name": "stdout",
          "text": [
            "accuracy:  0.46505041350402176\n"
          ]
        }
      ]
    },
    {
      "cell_type": "markdown",
      "source": [
        "#CONCLUSION\n"
      ],
      "metadata": {
        "id": "bRXcfkmPdIkP"
      }
    },
    {
      "cell_type": "markdown",
      "source": [
        "In the end we doubled the baseline accuracy to our final machine learning score. Police with their current cases and it is information can possible predict the status of their current case using the machine learning algorithmn. Overall the close status for criminal cases is going to be very hard to predict since criminal justice process tends to be long, complicated, and in the nature of police cases they are constantly fluctuating."
      ],
      "metadata": {
        "id": "RQnKuupfdQRx"
      }
    }
  ]
}